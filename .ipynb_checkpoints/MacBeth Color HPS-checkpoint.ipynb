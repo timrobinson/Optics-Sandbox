{
 "cells": [
  {
   "cell_type": "code",
   "execution_count": 4,
   "metadata": {},
   "outputs": [],
   "source": [
    "import matplotlib.pyplot as plt\n",
    "# import colour\n",
    "# from colour.plotting import *\n",
    "import numpy as np\n",
    "import pandas as pd\n",
    "import math\n",
    "# from graphics import *\n",
    "from scipy.interpolate import interp1d\n",
    "%matplotlib inline"
   ]
  },
  {
   "cell_type": "code",
   "execution_count": 5,
   "metadata": {},
   "outputs": [
    {
     "ename": "FileNotFoundError",
     "evalue": "[Errno 2] No such file or directory: 'D:/Python_Database/MacbethColorChecker.csv'",
     "output_type": "error",
     "traceback": [
      "\u001b[1;31m---------------------------------------------------------------------------\u001b[0m",
      "\u001b[1;31mFileNotFoundError\u001b[0m                         Traceback (most recent call last)",
      "\u001b[1;32m~\\AppData\\Local\\Temp\\ipykernel_2748\\1495583034.py\u001b[0m in \u001b[0;36m<module>\u001b[1;34m\u001b[0m\n\u001b[1;32m----> 1\u001b[1;33m \u001b[0mdf\u001b[0m \u001b[1;33m=\u001b[0m \u001b[0mpd\u001b[0m\u001b[1;33m.\u001b[0m\u001b[0mread_csv\u001b[0m\u001b[1;33m(\u001b[0m\u001b[1;34m'D:/Python_Database/MacbethColorChecker.csv'\u001b[0m\u001b[1;33m)\u001b[0m\u001b[1;33m\u001b[0m\u001b[1;33m\u001b[0m\u001b[0m\n\u001b[0m\u001b[0;32m      2\u001b[0m \u001b[0mlight\u001b[0m \u001b[1;33m=\u001b[0m \u001b[0mpd\u001b[0m\u001b[1;33m.\u001b[0m\u001b[0mread_csv\u001b[0m\u001b[1;33m(\u001b[0m\u001b[1;34m'D:/Python_Database/HPS_MCB.csv'\u001b[0m\u001b[1;33m)\u001b[0m\u001b[1;33m\u001b[0m\u001b[1;33m\u001b[0m\u001b[0m\n\u001b[0;32m      3\u001b[0m \u001b[0mXYZ\u001b[0m \u001b[1;33m=\u001b[0m \u001b[0mpd\u001b[0m\u001b[1;33m.\u001b[0m\u001b[0mread_csv\u001b[0m\u001b[1;33m(\u001b[0m\u001b[1;34m'D:/Python_Database/XYZ_Color_Function.csv'\u001b[0m\u001b[1;33m)\u001b[0m\u001b[1;33m[\u001b[0m\u001b[1;36m3\u001b[0m\u001b[1;33m:\u001b[0m\u001b[1;36m84\u001b[0m\u001b[1;33m]\u001b[0m\u001b[1;33m\u001b[0m\u001b[1;33m\u001b[0m\u001b[0m\n",
      "\u001b[1;32m~\\anaconda3\\lib\\site-packages\\pandas\\util\\_decorators.py\u001b[0m in \u001b[0;36mwrapper\u001b[1;34m(*args, **kwargs)\u001b[0m\n\u001b[0;32m    309\u001b[0m                     \u001b[0mstacklevel\u001b[0m\u001b[1;33m=\u001b[0m\u001b[0mstacklevel\u001b[0m\u001b[1;33m,\u001b[0m\u001b[1;33m\u001b[0m\u001b[1;33m\u001b[0m\u001b[0m\n\u001b[0;32m    310\u001b[0m                 )\n\u001b[1;32m--> 311\u001b[1;33m             \u001b[1;32mreturn\u001b[0m \u001b[0mfunc\u001b[0m\u001b[1;33m(\u001b[0m\u001b[1;33m*\u001b[0m\u001b[0margs\u001b[0m\u001b[1;33m,\u001b[0m \u001b[1;33m**\u001b[0m\u001b[0mkwargs\u001b[0m\u001b[1;33m)\u001b[0m\u001b[1;33m\u001b[0m\u001b[1;33m\u001b[0m\u001b[0m\n\u001b[0m\u001b[0;32m    312\u001b[0m \u001b[1;33m\u001b[0m\u001b[0m\n\u001b[0;32m    313\u001b[0m         \u001b[1;32mreturn\u001b[0m \u001b[0mwrapper\u001b[0m\u001b[1;33m\u001b[0m\u001b[1;33m\u001b[0m\u001b[0m\n",
      "\u001b[1;32m~\\anaconda3\\lib\\site-packages\\pandas\\io\\parsers\\readers.py\u001b[0m in \u001b[0;36mread_csv\u001b[1;34m(filepath_or_buffer, sep, delimiter, header, names, index_col, usecols, squeeze, prefix, mangle_dupe_cols, dtype, engine, converters, true_values, false_values, skipinitialspace, skiprows, skipfooter, nrows, na_values, keep_default_na, na_filter, verbose, skip_blank_lines, parse_dates, infer_datetime_format, keep_date_col, date_parser, dayfirst, cache_dates, iterator, chunksize, compression, thousands, decimal, lineterminator, quotechar, quoting, doublequote, escapechar, comment, encoding, encoding_errors, dialect, error_bad_lines, warn_bad_lines, on_bad_lines, delim_whitespace, low_memory, memory_map, float_precision, storage_options)\u001b[0m\n\u001b[0;32m    676\u001b[0m     \u001b[0mkwds\u001b[0m\u001b[1;33m.\u001b[0m\u001b[0mupdate\u001b[0m\u001b[1;33m(\u001b[0m\u001b[0mkwds_defaults\u001b[0m\u001b[1;33m)\u001b[0m\u001b[1;33m\u001b[0m\u001b[1;33m\u001b[0m\u001b[0m\n\u001b[0;32m    677\u001b[0m \u001b[1;33m\u001b[0m\u001b[0m\n\u001b[1;32m--> 678\u001b[1;33m     \u001b[1;32mreturn\u001b[0m \u001b[0m_read\u001b[0m\u001b[1;33m(\u001b[0m\u001b[0mfilepath_or_buffer\u001b[0m\u001b[1;33m,\u001b[0m \u001b[0mkwds\u001b[0m\u001b[1;33m)\u001b[0m\u001b[1;33m\u001b[0m\u001b[1;33m\u001b[0m\u001b[0m\n\u001b[0m\u001b[0;32m    679\u001b[0m \u001b[1;33m\u001b[0m\u001b[0m\n\u001b[0;32m    680\u001b[0m \u001b[1;33m\u001b[0m\u001b[0m\n",
      "\u001b[1;32m~\\anaconda3\\lib\\site-packages\\pandas\\io\\parsers\\readers.py\u001b[0m in \u001b[0;36m_read\u001b[1;34m(filepath_or_buffer, kwds)\u001b[0m\n\u001b[0;32m    573\u001b[0m \u001b[1;33m\u001b[0m\u001b[0m\n\u001b[0;32m    574\u001b[0m     \u001b[1;31m# Create the parser.\u001b[0m\u001b[1;33m\u001b[0m\u001b[1;33m\u001b[0m\u001b[0m\n\u001b[1;32m--> 575\u001b[1;33m     \u001b[0mparser\u001b[0m \u001b[1;33m=\u001b[0m \u001b[0mTextFileReader\u001b[0m\u001b[1;33m(\u001b[0m\u001b[0mfilepath_or_buffer\u001b[0m\u001b[1;33m,\u001b[0m \u001b[1;33m**\u001b[0m\u001b[0mkwds\u001b[0m\u001b[1;33m)\u001b[0m\u001b[1;33m\u001b[0m\u001b[1;33m\u001b[0m\u001b[0m\n\u001b[0m\u001b[0;32m    576\u001b[0m \u001b[1;33m\u001b[0m\u001b[0m\n\u001b[0;32m    577\u001b[0m     \u001b[1;32mif\u001b[0m \u001b[0mchunksize\u001b[0m \u001b[1;32mor\u001b[0m \u001b[0miterator\u001b[0m\u001b[1;33m:\u001b[0m\u001b[1;33m\u001b[0m\u001b[1;33m\u001b[0m\u001b[0m\n",
      "\u001b[1;32m~\\anaconda3\\lib\\site-packages\\pandas\\io\\parsers\\readers.py\u001b[0m in \u001b[0;36m__init__\u001b[1;34m(self, f, engine, **kwds)\u001b[0m\n\u001b[0;32m    930\u001b[0m \u001b[1;33m\u001b[0m\u001b[0m\n\u001b[0;32m    931\u001b[0m         \u001b[0mself\u001b[0m\u001b[1;33m.\u001b[0m\u001b[0mhandles\u001b[0m\u001b[1;33m:\u001b[0m \u001b[0mIOHandles\u001b[0m \u001b[1;33m|\u001b[0m \u001b[1;32mNone\u001b[0m \u001b[1;33m=\u001b[0m \u001b[1;32mNone\u001b[0m\u001b[1;33m\u001b[0m\u001b[1;33m\u001b[0m\u001b[0m\n\u001b[1;32m--> 932\u001b[1;33m         \u001b[0mself\u001b[0m\u001b[1;33m.\u001b[0m\u001b[0m_engine\u001b[0m \u001b[1;33m=\u001b[0m \u001b[0mself\u001b[0m\u001b[1;33m.\u001b[0m\u001b[0m_make_engine\u001b[0m\u001b[1;33m(\u001b[0m\u001b[0mf\u001b[0m\u001b[1;33m,\u001b[0m \u001b[0mself\u001b[0m\u001b[1;33m.\u001b[0m\u001b[0mengine\u001b[0m\u001b[1;33m)\u001b[0m\u001b[1;33m\u001b[0m\u001b[1;33m\u001b[0m\u001b[0m\n\u001b[0m\u001b[0;32m    933\u001b[0m \u001b[1;33m\u001b[0m\u001b[0m\n\u001b[0;32m    934\u001b[0m     \u001b[1;32mdef\u001b[0m \u001b[0mclose\u001b[0m\u001b[1;33m(\u001b[0m\u001b[0mself\u001b[0m\u001b[1;33m)\u001b[0m\u001b[1;33m:\u001b[0m\u001b[1;33m\u001b[0m\u001b[1;33m\u001b[0m\u001b[0m\n",
      "\u001b[1;32m~\\anaconda3\\lib\\site-packages\\pandas\\io\\parsers\\readers.py\u001b[0m in \u001b[0;36m_make_engine\u001b[1;34m(self, f, engine)\u001b[0m\n\u001b[0;32m   1214\u001b[0m             \u001b[1;31m# \"Union[str, PathLike[str], ReadCsvBuffer[bytes], ReadCsvBuffer[str]]\"\u001b[0m\u001b[1;33m\u001b[0m\u001b[1;33m\u001b[0m\u001b[0m\n\u001b[0;32m   1215\u001b[0m             \u001b[1;31m# , \"str\", \"bool\", \"Any\", \"Any\", \"Any\", \"Any\", \"Any\"\u001b[0m\u001b[1;33m\u001b[0m\u001b[1;33m\u001b[0m\u001b[0m\n\u001b[1;32m-> 1216\u001b[1;33m             self.handles = get_handle(  # type: ignore[call-overload]\n\u001b[0m\u001b[0;32m   1217\u001b[0m                 \u001b[0mf\u001b[0m\u001b[1;33m,\u001b[0m\u001b[1;33m\u001b[0m\u001b[1;33m\u001b[0m\u001b[0m\n\u001b[0;32m   1218\u001b[0m                 \u001b[0mmode\u001b[0m\u001b[1;33m,\u001b[0m\u001b[1;33m\u001b[0m\u001b[1;33m\u001b[0m\u001b[0m\n",
      "\u001b[1;32m~\\anaconda3\\lib\\site-packages\\pandas\\io\\common.py\u001b[0m in \u001b[0;36mget_handle\u001b[1;34m(path_or_buf, mode, encoding, compression, memory_map, is_text, errors, storage_options)\u001b[0m\n\u001b[0;32m    784\u001b[0m         \u001b[1;32mif\u001b[0m \u001b[0mioargs\u001b[0m\u001b[1;33m.\u001b[0m\u001b[0mencoding\u001b[0m \u001b[1;32mand\u001b[0m \u001b[1;34m\"b\"\u001b[0m \u001b[1;32mnot\u001b[0m \u001b[1;32min\u001b[0m \u001b[0mioargs\u001b[0m\u001b[1;33m.\u001b[0m\u001b[0mmode\u001b[0m\u001b[1;33m:\u001b[0m\u001b[1;33m\u001b[0m\u001b[1;33m\u001b[0m\u001b[0m\n\u001b[0;32m    785\u001b[0m             \u001b[1;31m# Encoding\u001b[0m\u001b[1;33m\u001b[0m\u001b[1;33m\u001b[0m\u001b[0m\n\u001b[1;32m--> 786\u001b[1;33m             handle = open(\n\u001b[0m\u001b[0;32m    787\u001b[0m                 \u001b[0mhandle\u001b[0m\u001b[1;33m,\u001b[0m\u001b[1;33m\u001b[0m\u001b[1;33m\u001b[0m\u001b[0m\n\u001b[0;32m    788\u001b[0m                 \u001b[0mioargs\u001b[0m\u001b[1;33m.\u001b[0m\u001b[0mmode\u001b[0m\u001b[1;33m,\u001b[0m\u001b[1;33m\u001b[0m\u001b[1;33m\u001b[0m\u001b[0m\n",
      "\u001b[1;31mFileNotFoundError\u001b[0m: [Errno 2] No such file or directory: 'D:/Python_Database/MacbethColorChecker.csv'"
     ]
    }
   ],
   "source": [
    "df = pd.read_csv('D:/Python_Database/MacbethColorChecker.csv')\n",
    "light = pd.read_csv('D:/Python_Database/HPS_MCB.csv')\n",
    "XYZ = pd.read_csv('D:/Python_Database/XYZ_Color_Function.csv')[3:84]"
   ]
  },
  {
   "cell_type": "code",
   "execution_count": 609,
   "metadata": {},
   "outputs": [],
   "source": [
    "light = light/np.amax(light)"
   ]
  },
  {
   "cell_type": "code",
   "execution_count": 610,
   "metadata": {},
   "outputs": [],
   "source": [
    "df.drop('Unnamed: 25', axis=1, inplace=True)\n",
    "df.drop('Patch Numbers', axis=1, inplace=True)\n",
    "df.drop('wavelength', axis=1, inplace=True)\n",
    "\n",
    "wavelength = np.arange(380, 780., .1)\n",
    "wavelength = np.asarray(wavelength)\n",
    "wave = range(380, 785, 5)\n",
    "wave = np.asarray(wave)"
   ]
  },
  {
   "cell_type": "code",
   "execution_count": 611,
   "metadata": {},
   "outputs": [],
   "source": [
    "light.drop('wavelength', axis=1, inplace=True)"
   ]
  },
  {
   "cell_type": "code",
   "execution_count": 612,
   "metadata": {},
   "outputs": [],
   "source": [
    "XYZ = XYZ.rename(columns = {XYZ.columns[0]:'wave', XYZ.columns[1]:'X', XYZ.columns[2]:'Y', XYZ.columns[3]:'Z'})\n",
    "XYZ.set_index([range(0,len(XYZ['X']),1)], inplace = True)\n",
    "X_Bar, Y_Bar, Z_Bar = XYZ['X'], XYZ['Y'], XYZ['Z']\n",
    "XYZ.drop('wave', axis=1, inplace=True)\n",
    "X_Bar=pd.DataFrame(X_Bar)\n",
    "Y_Bar=pd.DataFrame(Y_Bar)\n",
    "Z_Bar=pd.DataFrame(Z_Bar)"
   ]
  },
  {
   "cell_type": "code",
   "execution_count": 613,
   "metadata": {},
   "outputs": [
    {
     "data": {
      "text/html": [
       "<div>\n",
       "<table border=\"1\" class=\"dataframe\">\n",
       "  <thead>\n",
       "    <tr style=\"text-align: right;\">\n",
       "      <th></th>\n",
       "      <th>1</th>\n",
       "      <th>2</th>\n",
       "      <th>3</th>\n",
       "      <th>4</th>\n",
       "      <th>5</th>\n",
       "      <th>6</th>\n",
       "      <th>7</th>\n",
       "      <th>8</th>\n",
       "      <th>9</th>\n",
       "      <th>10</th>\n",
       "      <th>...</th>\n",
       "      <th>15</th>\n",
       "      <th>16</th>\n",
       "      <th>17</th>\n",
       "      <th>18</th>\n",
       "      <th>19</th>\n",
       "      <th>20</th>\n",
       "      <th>21</th>\n",
       "      <th>22</th>\n",
       "      <th>23</th>\n",
       "      <th>24</th>\n",
       "    </tr>\n",
       "  </thead>\n",
       "  <tbody>\n",
       "    <tr>\n",
       "      <th>0</th>\n",
       "      <td>0.048</td>\n",
       "      <td>0.103</td>\n",
       "      <td>0.113</td>\n",
       "      <td>0.048</td>\n",
       "      <td>0.123</td>\n",
       "      <td>0.110</td>\n",
       "      <td>0.053</td>\n",
       "      <td>0.099</td>\n",
       "      <td>0.096</td>\n",
       "      <td>0.101</td>\n",
       "      <td>...</td>\n",
       "      <td>0.052</td>\n",
       "      <td>0.054</td>\n",
       "      <td>0.118</td>\n",
       "      <td>0.093</td>\n",
       "      <td>0.153</td>\n",
       "      <td>0.150</td>\n",
       "      <td>0.138</td>\n",
       "      <td>0.113</td>\n",
       "      <td>0.074</td>\n",
       "      <td>0.032</td>\n",
       "    </tr>\n",
       "    <tr>\n",
       "      <th>1</th>\n",
       "      <td>0.051</td>\n",
       "      <td>0.120</td>\n",
       "      <td>0.138</td>\n",
       "      <td>0.049</td>\n",
       "      <td>0.152</td>\n",
       "      <td>0.133</td>\n",
       "      <td>0.054</td>\n",
       "      <td>0.120</td>\n",
       "      <td>0.108</td>\n",
       "      <td>0.115</td>\n",
       "      <td>...</td>\n",
       "      <td>0.052</td>\n",
       "      <td>0.053</td>\n",
       "      <td>0.142</td>\n",
       "      <td>0.110</td>\n",
       "      <td>0.189</td>\n",
       "      <td>0.184</td>\n",
       "      <td>0.167</td>\n",
       "      <td>0.131</td>\n",
       "      <td>0.079</td>\n",
       "      <td>0.033</td>\n",
       "    </tr>\n",
       "    <tr>\n",
       "      <th>2</th>\n",
       "      <td>0.055</td>\n",
       "      <td>0.141</td>\n",
       "      <td>0.174</td>\n",
       "      <td>0.049</td>\n",
       "      <td>0.197</td>\n",
       "      <td>0.167</td>\n",
       "      <td>0.054</td>\n",
       "      <td>0.150</td>\n",
       "      <td>0.123</td>\n",
       "      <td>0.135</td>\n",
       "      <td>...</td>\n",
       "      <td>0.052</td>\n",
       "      <td>0.054</td>\n",
       "      <td>0.179</td>\n",
       "      <td>0.134</td>\n",
       "      <td>0.245</td>\n",
       "      <td>0.235</td>\n",
       "      <td>0.206</td>\n",
       "      <td>0.150</td>\n",
       "      <td>0.084</td>\n",
       "      <td>0.033</td>\n",
       "    </tr>\n",
       "    <tr>\n",
       "      <th>3</th>\n",
       "      <td>0.060</td>\n",
       "      <td>0.163</td>\n",
       "      <td>0.219</td>\n",
       "      <td>0.049</td>\n",
       "      <td>0.258</td>\n",
       "      <td>0.208</td>\n",
       "      <td>0.054</td>\n",
       "      <td>0.189</td>\n",
       "      <td>0.135</td>\n",
       "      <td>0.157</td>\n",
       "      <td>...</td>\n",
       "      <td>0.052</td>\n",
       "      <td>0.053</td>\n",
       "      <td>0.228</td>\n",
       "      <td>0.164</td>\n",
       "      <td>0.319</td>\n",
       "      <td>0.299</td>\n",
       "      <td>0.249</td>\n",
       "      <td>0.169</td>\n",
       "      <td>0.088</td>\n",
       "      <td>0.034</td>\n",
       "    </tr>\n",
       "    <tr>\n",
       "      <th>4</th>\n",
       "      <td>0.065</td>\n",
       "      <td>0.182</td>\n",
       "      <td>0.266</td>\n",
       "      <td>0.050</td>\n",
       "      <td>0.328</td>\n",
       "      <td>0.252</td>\n",
       "      <td>0.054</td>\n",
       "      <td>0.231</td>\n",
       "      <td>0.144</td>\n",
       "      <td>0.177</td>\n",
       "      <td>...</td>\n",
       "      <td>0.051</td>\n",
       "      <td>0.053</td>\n",
       "      <td>0.283</td>\n",
       "      <td>0.195</td>\n",
       "      <td>0.409</td>\n",
       "      <td>0.372</td>\n",
       "      <td>0.289</td>\n",
       "      <td>0.183</td>\n",
       "      <td>0.091</td>\n",
       "      <td>0.035</td>\n",
       "    </tr>\n",
       "  </tbody>\n",
       "</table>\n",
       "<p>5 rows × 24 columns</p>\n",
       "</div>"
      ],
      "text/plain": [
       "       1      2      3      4      5      6      7      8      9     10  \\\n",
       "0  0.048  0.103  0.113  0.048  0.123  0.110  0.053  0.099  0.096  0.101   \n",
       "1  0.051  0.120  0.138  0.049  0.152  0.133  0.054  0.120  0.108  0.115   \n",
       "2  0.055  0.141  0.174  0.049  0.197  0.167  0.054  0.150  0.123  0.135   \n",
       "3  0.060  0.163  0.219  0.049  0.258  0.208  0.054  0.189  0.135  0.157   \n",
       "4  0.065  0.182  0.266  0.050  0.328  0.252  0.054  0.231  0.144  0.177   \n",
       "\n",
       "   ...       15     16     17     18     19     20     21     22     23     24  \n",
       "0  ...    0.052  0.054  0.118  0.093  0.153  0.150  0.138  0.113  0.074  0.032  \n",
       "1  ...    0.052  0.053  0.142  0.110  0.189  0.184  0.167  0.131  0.079  0.033  \n",
       "2  ...    0.052  0.054  0.179  0.134  0.245  0.235  0.206  0.150  0.084  0.033  \n",
       "3  ...    0.052  0.053  0.228  0.164  0.319  0.299  0.249  0.169  0.088  0.034  \n",
       "4  ...    0.051  0.053  0.283  0.195  0.409  0.372  0.289  0.183  0.091  0.035  \n",
       "\n",
       "[5 rows x 24 columns]"
      ]
     },
     "execution_count": 613,
     "metadata": {},
     "output_type": "execute_result"
    }
   ],
   "source": [
    "df.head()"
   ]
  },
  {
   "cell_type": "code",
   "execution_count": 614,
   "metadata": {},
   "outputs": [
    {
     "data": {
      "text/plain": [
       "array([[ 0.048,  0.051,  0.055, ...,  0.448,  0.432,  0.421],\n",
       "       [ 0.103,  0.12 ,  0.141, ...,  0.771,  0.747,  0.734],\n",
       "       [ 0.113,  0.138,  0.174, ...,  0.11 ,  0.115,  0.12 ],\n",
       "       ..., \n",
       "       [ 0.113,  0.131,  0.15 , ...,  0.184,  0.184,  0.183],\n",
       "       [ 0.074,  0.079,  0.084, ...,  0.083,  0.083,  0.083],\n",
       "       [ 0.032,  0.033,  0.033, ...,  0.032,  0.032,  0.032]])"
      ]
     },
     "execution_count": 614,
     "metadata": {},
     "output_type": "execute_result"
    }
   ],
   "source": [
    "df = np.transpose(np.asarray(df.values.tolist()))\n",
    "df"
   ]
  },
  {
   "cell_type": "code",
   "execution_count": 615,
   "metadata": {},
   "outputs": [],
   "source": [
    "X_Bar = np.asarray(X_Bar['X'].tolist())\n",
    "Y_Bar = np.asarray(Y_Bar['Y'].tolist())\n",
    "Z_Bar = np.asarray(Z_Bar['Z'].tolist())\n",
    "\n",
    "light = np.asarray(light['1'].tolist())"
   ]
  },
  {
   "cell_type": "code",
   "execution_count": 616,
   "metadata": {},
   "outputs": [],
   "source": [
    "F = interp1d(wave, X_Bar, kind='linear')\n",
    "G = interp1d(wave, Y_Bar, kind='linear')\n",
    "H = interp1d(wave, Z_Bar, kind='linear')\n",
    "\n",
    "I = interp1d(wavelength, light, kind='linear')\n",
    "\n",
    "J0 = interp1d(wave, df[0], kind='linear')\n",
    "J1 = interp1d(wave, df[1], kind='linear')\n",
    "J2 = interp1d(wave, df[2], kind='linear')\n",
    "J3 = interp1d(wave, df[3], kind='linear')\n",
    "J4 = interp1d(wave, df[4], kind='linear')\n",
    "J5 = interp1d(wave, df[5], kind='linear')\n",
    "J6 = interp1d(wave, df[6], kind='linear')\n",
    "J7 = interp1d(wave, df[7], kind='linear')\n",
    "J8 = interp1d(wave, df[8], kind='linear')\n",
    "J9 = interp1d(wave, df[9], kind='linear')\n",
    "J10 = interp1d(wave, df[10], kind='linear')\n",
    "J11 = interp1d(wave, df[11], kind='linear')\n",
    "J12 = interp1d(wave, df[12], kind='linear')\n",
    "J13 = interp1d(wave, df[13], kind='linear')\n",
    "J14 = interp1d(wave, df[14], kind='linear')\n",
    "J15 = interp1d(wave, df[15], kind='linear')\n",
    "J16 = interp1d(wave, df[16], kind='linear')\n",
    "J17 = interp1d(wave, df[17], kind='linear')\n",
    "J18 = interp1d(wave, df[18], kind='linear')\n",
    "J19 = interp1d(wave, df[19], kind='linear')\n",
    "J20 = interp1d(wave, df[20], kind='linear')\n",
    "J21 = interp1d(wave, df[21], kind='linear')\n",
    "J22 = interp1d(wave, df[22], kind='linear')\n",
    "J23 = interp1d(wave, df[23], kind='linear')"
   ]
  },
  {
   "cell_type": "code",
   "execution_count": 617,
   "metadata": {},
   "outputs": [],
   "source": [
    "X_Bar, Y_Bar, Z_Bar = F(wavelength), G(wavelength), H(wavelength)\n",
    "light = I(wavelength)\n",
    "df0, df1, df2, df3 = J0(wavelength), J1(wavelength), J2(wavelength), J3(wavelength)\n",
    "df4, df5, df6, df7 = J4(wavelength), J5(wavelength), J6(wavelength), J7(wavelength)\n",
    "df8, df9, df10, df11 = J8(wavelength), J9(wavelength), J10(wavelength), J11(wavelength)\n",
    "df12, df13, df14, df15 = J12(wavelength), J13(wavelength), J14(wavelength), J15(wavelength)\n",
    "df16, df17, df18, df19 = J16(wavelength), J17(wavelength), J18(wavelength), J19(wavelength)\n",
    "df20, df21, df22, df23 = J20(wavelength), J21(wavelength), J22(wavelength), J23(wavelength)\n",
    "\n",
    "X_Bar = pd.DataFrame(X_Bar)\n",
    "Y_Bar = pd.DataFrame(Y_Bar)\n",
    "Z_Bar = pd.DataFrame(Z_Bar)\n",
    "\n",
    "light = pd.DataFrame(light)\n",
    "\n",
    "df = np.concatenate(([df0],[df1],[df2],[df3],[df4],[df5],[df6],[df7],[df8],[df9],[df10],[df11],[df12],[df13],[df14],[df15],[df16],[df17],[df18],[df19],[df20],[df21],[df22],[df23]))\n",
    "\n",
    "df = np.transpose(df)\n",
    "\n",
    "df = pd.DataFrame(df)\n"
   ]
  },
  {
   "cell_type": "code",
   "execution_count": 618,
   "metadata": {},
   "outputs": [],
   "source": [
    "X_light = pd.DataFrame(light.values*X_Bar.values, columns=light.columns, index=light.index)\n",
    "Y_light = pd.DataFrame(light.values*Y_Bar.values, columns=light.columns, index=light.index)\n",
    "Z_light = pd.DataFrame(light.values*Z_Bar.values, columns=light.columns, index=light.index)"
   ]
  },
  {
   "cell_type": "code",
   "execution_count": 619,
   "metadata": {},
   "outputs": [],
   "source": [
    "X_light=X_light.sum()\n",
    "Y_light=Y_light.sum()\n",
    "Z_light=Z_light.sum()\n",
    "\n",
    "Y = Y_light.tolist()[0]"
   ]
  },
  {
   "cell_type": "code",
   "execution_count": 620,
   "metadata": {},
   "outputs": [
    {
     "data": {
      "text/plain": [
       "120.92339721825306"
      ]
     },
     "execution_count": 620,
     "metadata": {},
     "output_type": "execute_result"
    }
   ],
   "source": [
    "Y"
   ]
  },
  {
   "cell_type": "code",
   "execution_count": 621,
   "metadata": {},
   "outputs": [],
   "source": [
    "df_light = pd.DataFrame(df.values*light.values, columns=df.columns, index=df.index)"
   ]
  },
  {
   "cell_type": "code",
   "execution_count": 622,
   "metadata": {},
   "outputs": [],
   "source": [
    "x_bar = pd.DataFrame(df_light.values*X_Bar.values, columns=df_light.columns, index=df_light.index)\n",
    "\n",
    "y_bar = pd.DataFrame(df_light.values*Y_Bar.values, columns=df_light.columns, index=df_light.index)\n",
    "\n",
    "z_bar = pd.DataFrame(df_light.values*Z_Bar.values, columns=df_light.columns, index=df_light.index)\n"
   ]
  },
  {
   "cell_type": "code",
   "execution_count": 623,
   "metadata": {},
   "outputs": [
    {
     "data": {
      "text/plain": [
       "(          0\n",
       " 0  0.151795\n",
       " 1  0.519149\n",
       " 2  0.183116\n",
       " 3  0.128504\n",
       " 4  0.271279,           0\n",
       " 0  0.120808\n",
       " 1  0.408681\n",
       " 2  0.161825\n",
       " 3  0.115696\n",
       " 4  0.222788,           0\n",
       " 0  0.008287\n",
       " 1  0.036881\n",
       " 2  0.045847\n",
       " 3  0.009523\n",
       " 4  0.060130)"
      ]
     },
     "execution_count": 623,
     "metadata": {},
     "output_type": "execute_result"
    }
   ],
   "source": [
    "x_bar = pd.DataFrame(x_bar.sum())/Y\n",
    "y_bar = pd.DataFrame(y_bar.sum())/Y\n",
    "z_bar = pd.DataFrame(z_bar.sum())/Y\n",
    "\n",
    "x_bar.head(), y_bar.head(), z_bar.head()"
   ]
  },
  {
   "cell_type": "code",
   "execution_count": 624,
   "metadata": {
    "collapsed": true
   },
   "outputs": [],
   "source": [
    "var_R = pd.DataFrame(x_bar*3.2406 + y_bar*-1.5372 + z_bar*-0.4986, columns=x_bar.columns, index=x_bar.index)\n",
    "var_G = pd.DataFrame(x_bar*-0.9686 + y_bar*1.8758 + z_bar*0.0415, columns=x_bar.columns, index=x_bar.index)\n",
    "var_B = pd.DataFrame(x_bar*0.0557 + y_bar*-0.2040 + z_bar*1.0570, columns=x_bar.columns, index=x_bar.index)"
   ]
  },
  {
   "cell_type": "code",
   "execution_count": 625,
   "metadata": {},
   "outputs": [],
   "source": [
    "r,g,b = var_R.ix[:,0].tolist(), var_G.ix[:,0].tolist(), var_B.ix[:,0].tolist()"
   ]
  },
  {
   "cell_type": "code",
   "execution_count": 626,
   "metadata": {
    "collapsed": true
   },
   "outputs": [],
   "source": [
    "r_cor, g_cor, b_cor = [], [], []\n",
    "\n",
    "for i in range(len(r)):\n",
    "    if r[i] > 1:\n",
    "        r_temp = (1 + 0.055)*((1**(1/2.4)) - 0.055)\n",
    "    elif r[i] <= 0.0:\n",
    "        r_temp = 0.0\n",
    "    elif r[i] <= 0.0031308:\n",
    "        r_temp = 12.92*r[i]\n",
    "    else:\n",
    "        r_temp = (1 + 0.055)*((r[i]**(1/2.4)) - 0.055)\n",
    "        \n",
    "    r_cor.append(r_temp)\n",
    "\n",
    "for i in range(len(g)):\n",
    "    if g[i] > 1:\n",
    "        g_temp = (1 + 0.055)*((1**(1/2.4)) - 0.055)\n",
    "    elif g[i] <= 0.0:\n",
    "        g_temp = 0.0    \n",
    "    elif g[i] <= 0.0031308:\n",
    "        g_temp = 12.92*g[i]\n",
    "    else:\n",
    "        g_temp = (1 + 0.055)*((g[i]**(1/2.4)) - 0.055)\n",
    "        \n",
    "    g_cor.append(g_temp)\n",
    "    \n",
    "for i in range(len(b)):\n",
    "    if b[i] > 1:\n",
    "        b_temp = (1 + 0.055)*((1**(1/2.4)) - 0.055)\n",
    "    elif b[i] <= 0.0:\n",
    "        b_temp = 0.0\n",
    "    elif b[i] <= 0.0031308:\n",
    "        b_temp = 12.92*b[i]\n",
    "    else:\n",
    "        b_temp = (1 + 0.055)*((b[i]**(1/2.4)) - 0.055)\n",
    "        \n",
    "    b_cor.append(b_temp)"
   ]
  },
  {
   "cell_type": "code",
   "execution_count": 627,
   "metadata": {},
   "outputs": [
    {
     "data": {
      "text/plain": [
       "[(0.58263746382713577, 0.3101397965386874, 0.0),\n",
       " (0.996975, 0.5488977328453063, 0.0),\n",
       " (0.59974529097281526, 0.39008068508631727, 0.17124862560567239),\n",
       " (0.51781053442866254, 0.33403587928834699, 0.0),\n",
       " (0.73669925091704958, 0.43056711540639409, 0.19733982188586302),\n",
       " (0.7842915340604073, 0.56501117178490612, 0.14933617898635404),\n",
       " (0.996975, 0.5798885481974958, 0.0),\n",
       " (0.46532432568149362, 0.28095941569802607, 0.21612633468655001),\n",
       " (0.92778765470228575, 0.38907302396697546, 0.0),\n",
       " (0.42933784340122094, 0.21227453889949108, 0.10314752423189871),\n",
       " (0.92237592084703446, 0.61977734980550492, 0.0),\n",
       " (0.996975, 0.67014238935684611, 0.0),\n",
       " (0.32086151865958196, 0.18973829189826236, 0.20649127042185741),\n",
       " (0.57131767620893359, 0.43708475199771601, 0.0),\n",
       " (0.75861888896051188, 0.24650540459668835, 0.0),\n",
       " (0.996975, 0.74128289537561276, 0.0),\n",
       " (0.84805463693740213, 0.34986842263649198, 0.11809025550614557),\n",
       " (0.44356858742024174, 0.33366217066366122, 0.22860501117790474),\n",
       " (0.996975, 0.83243726108528238, 0.12506384383048241),\n",
       " (0.996975, 0.69141932191052569, 0.096104796936685818),\n",
       " (0.89396367520743036, 0.55363013434165576, 0.068670041487853023),\n",
       " (0.69367386979986356, 0.4248233217222312, 0.042116577515580712),\n",
       " (0.48143320061344491, 0.28966310747079566, 0.023713421960936652),\n",
       " (0.29388834099592959, 0.1682078382817008, 0.011222868721085492)]"
      ]
     },
     "execution_count": 627,
     "metadata": {},
     "output_type": "execute_result"
    }
   ],
   "source": [
    "rgb = zip(r_cor,g_cor,b_cor)\n",
    "\n",
    "rgb"
   ]
  },
  {
   "cell_type": "code",
   "execution_count": 628,
   "metadata": {},
   "outputs": [
    {
     "data": {
      "image/png": "[encoded data removed]",
      "text/plain": [
       "<matplotlib.figure.Figure at 0xebb2a58>"
      ]
     },
     "metadata": {},
     "output_type": "display_data"
    }
   ],
   "source": [
    "fig, ax = plt.subplots(4,6)\n",
    "fig.subplots_adjust(wspace=0, hspace=0)\n",
    "\n",
    "ax[0,0].yaxis.set_visible(False)\n",
    "ax[0,0].xaxis.set_visible(False)\n",
    "ax[0,0].set_axis_bgcolor('#735244')\n",
    "ax[0,1].yaxis.set_visible(False)\n",
    "ax[0,1].xaxis.set_visible(False)\n",
    "ax[0,1].set_axis_bgcolor('#c29682')\n",
    "ax[0,2].yaxis.set_visible(False)\n",
    "ax[0,2].xaxis.set_visible(False)\n",
    "ax[0,2].set_axis_bgcolor('#627a9d')\n",
    "ax[0,3].yaxis.set_visible(False)\n",
    "ax[0,3].xaxis.set_visible(False)\n",
    "ax[0,3].set_axis_bgcolor('#576c43')\n",
    "ax[0,4].yaxis.set_visible(False)\n",
    "ax[0,4].xaxis.set_visible(False)\n",
    "ax[0,4].set_axis_bgcolor('#8580b1')\n",
    "ax[0,5].yaxis.set_visible(False)\n",
    "ax[0,5].xaxis.set_visible(False)\n",
    "ax[0,5].set_axis_bgcolor('#67bdaa')\n",
    "ax[1,0].yaxis.set_visible(False)\n",
    "ax[1,0].xaxis.set_visible(False)\n",
    "ax[1,0].set_axis_bgcolor('#d67e2c')\n",
    "ax[1,1].yaxis.set_visible(False)\n",
    "ax[1,1].xaxis.set_visible(False)\n",
    "ax[1,1].set_axis_bgcolor('#505ba6')\n",
    "ax[1,2].yaxis.set_visible(False)\n",
    "ax[1,2].xaxis.set_visible(False)\n",
    "ax[1,2].set_axis_bgcolor('#c15a63')\n",
    "ax[1,3].yaxis.set_visible(False)\n",
    "ax[1,3].xaxis.set_visible(False)\n",
    "ax[1,3].set_axis_bgcolor('#5e3c6c')\n",
    "ax[1,4].yaxis.set_visible(False)\n",
    "ax[1,4].xaxis.set_visible(False)\n",
    "ax[1,4].set_axis_bgcolor('#9dbc40')\n",
    "ax[1,5].yaxis.set_visible(False)\n",
    "ax[1,5].xaxis.set_visible(False)\n",
    "ax[1,5].set_axis_bgcolor('#e0a32e')\n",
    "ax[2,0].yaxis.set_visible(False)\n",
    "ax[2,0].xaxis.set_visible(False)\n",
    "ax[2,0].set_axis_bgcolor('#383d96')\n",
    "ax[2,1].yaxis.set_visible(False)\n",
    "ax[2,1].xaxis.set_visible(False)\n",
    "ax[2,1].set_axis_bgcolor('#469449')\n",
    "ax[2,2].yaxis.set_visible(False)\n",
    "ax[2,2].xaxis.set_visible(False)\n",
    "ax[2,2].set_axis_bgcolor('#af363c')\n",
    "ax[2,3].yaxis.set_visible(False)\n",
    "ax[2,3].xaxis.set_visible(False)\n",
    "ax[2,3].set_axis_bgcolor('#e7c71f')\n",
    "ax[2,4].yaxis.set_visible(False)\n",
    "ax[2,4].xaxis.set_visible(False)\n",
    "ax[2,4].set_axis_bgcolor('#bb5695')\n",
    "ax[2,5].yaxis.set_visible(False)\n",
    "ax[2,5].xaxis.set_visible(False)\n",
    "ax[2,5].set_axis_bgcolor('#0885a1')\n",
    "ax[3,0].yaxis.set_visible(False)\n",
    "ax[3,0].xaxis.set_visible(False)\n",
    "ax[3,0].set_axis_bgcolor('#f3f3f2')\n",
    "ax[3,1].yaxis.set_visible(False)\n",
    "ax[3,1].xaxis.set_visible(False)\n",
    "ax[3,1].set_axis_bgcolor('#c8c8c8')\n",
    "ax[3,2].yaxis.set_visible(False)\n",
    "ax[3,2].xaxis.set_visible(False)\n",
    "ax[3,2].set_axis_bgcolor('#a0a0a0')\n",
    "ax[3,3].yaxis.set_visible(False)\n",
    "ax[3,3].xaxis.set_visible(False)\n",
    "ax[3,3].set_axis_bgcolor('#7a7a79')\n",
    "ax[3,4].yaxis.set_visible(False)\n",
    "ax[3,4].xaxis.set_visible(False)\n",
    "ax[3,4].set_axis_bgcolor('#555555')\n",
    "ax[3,5].yaxis.set_visible(False)\n",
    "ax[3,5].xaxis.set_visible(False)\n",
    "ax[3,5].set_axis_bgcolor('#343434')"
   ]
  },
  {
   "cell_type": "code",
   "execution_count": 629,
   "metadata": {},
   "outputs": [
    {
     "data": {
      "image/png": "[encoded data removed]",
      "text/plain": [
       "<matplotlib.figure.Figure at 0xdb664e0>"
      ]
     },
     "metadata": {},
     "output_type": "display_data"
    }
   ],
   "source": [
    "fig, ax = plt.subplots(4,6)\n",
    "fig.subplots_adjust(wspace=0, hspace=0)\n",
    "\n",
    "ax[0,0].yaxis.set_visible(False)\n",
    "ax[0,0].xaxis.set_visible(False)\n",
    "ax[0,0].set_axis_bgcolor(rgb[0])\n",
    "ax[0,1].yaxis.set_visible(False)\n",
    "ax[0,1].xaxis.set_visible(False)\n",
    "ax[0,1].set_axis_bgcolor(rgb[1])\n",
    "ax[0,2].yaxis.set_visible(False)\n",
    "ax[0,2].xaxis.set_visible(False)\n",
    "ax[0,2].set_axis_bgcolor(rgb[2])\n",
    "ax[0,3].yaxis.set_visible(False)\n",
    "ax[0,3].xaxis.set_visible(False)\n",
    "ax[0,3].set_axis_bgcolor(rgb[3])\n",
    "ax[0,4].yaxis.set_visible(False)\n",
    "ax[0,4].xaxis.set_visible(False)\n",
    "ax[0,4].set_axis_bgcolor(rgb[4])\n",
    "ax[0,5].yaxis.set_visible(False)\n",
    "ax[0,5].xaxis.set_visible(False)\n",
    "ax[0,5].set_axis_bgcolor(rgb[5])\n",
    "ax[1,0].yaxis.set_visible(False)\n",
    "ax[1,0].xaxis.set_visible(False)\n",
    "ax[1,0].set_axis_bgcolor(rgb[6])\n",
    "ax[1,1].yaxis.set_visible(False)\n",
    "ax[1,1].xaxis.set_visible(False)\n",
    "ax[1,1].set_axis_bgcolor(rgb[7])\n",
    "ax[1,2].yaxis.set_visible(False)\n",
    "ax[1,2].xaxis.set_visible(False)\n",
    "ax[1,2].set_axis_bgcolor(rgb[8])\n",
    "ax[1,3].yaxis.set_visible(False)\n",
    "ax[1,3].xaxis.set_visible(False)\n",
    "ax[1,3].set_axis_bgcolor(rgb[9])\n",
    "ax[1,4].yaxis.set_visible(False)\n",
    "ax[1,4].xaxis.set_visible(False)\n",
    "ax[1,4].set_axis_bgcolor(rgb[10])\n",
    "ax[1,5].yaxis.set_visible(False)\n",
    "ax[1,5].xaxis.set_visible(False)\n",
    "ax[1,5].set_axis_bgcolor(rgb[11])\n",
    "ax[2,0].yaxis.set_visible(False)\n",
    "ax[2,0].xaxis.set_visible(False)\n",
    "ax[2,0].set_axis_bgcolor(rgb[12])\n",
    "ax[2,1].yaxis.set_visible(False)\n",
    "ax[2,1].xaxis.set_visible(False)\n",
    "ax[2,1].set_axis_bgcolor(rgb[13])\n",
    "ax[2,2].yaxis.set_visible(False)\n",
    "ax[2,2].xaxis.set_visible(False)\n",
    "ax[2,2].set_axis_bgcolor(rgb[14])\n",
    "ax[2,3].yaxis.set_visible(False)\n",
    "ax[2,3].xaxis.set_visible(False)\n",
    "ax[2,3].set_axis_bgcolor(rgb[15])\n",
    "ax[2,4].yaxis.set_visible(False)\n",
    "ax[2,4].xaxis.set_visible(False)\n",
    "ax[2,4].set_axis_bgcolor(rgb[16])\n",
    "ax[2,5].yaxis.set_visible(False)\n",
    "ax[2,5].xaxis.set_visible(False)\n",
    "ax[2,5].set_axis_bgcolor(rgb[17])\n",
    "ax[3,0].yaxis.set_visible(False)\n",
    "ax[3,0].xaxis.set_visible(False)\n",
    "ax[3,0].set_axis_bgcolor(rgb[18])\n",
    "ax[3,1].yaxis.set_visible(False)\n",
    "ax[3,1].xaxis.set_visible(False)\n",
    "ax[3,1].set_axis_bgcolor(rgb[19])\n",
    "ax[3,2].yaxis.set_visible(False)\n",
    "ax[3,2].xaxis.set_visible(False)\n",
    "ax[3,2].set_axis_bgcolor(rgb[20])\n",
    "ax[3,3].yaxis.set_visible(False)\n",
    "ax[3,3].xaxis.set_visible(False)\n",
    "ax[3,3].set_axis_bgcolor(rgb[21])\n",
    "ax[3,4].yaxis.set_visible(False)\n",
    "ax[3,4].xaxis.set_visible(False)\n",
    "ax[3,4].set_axis_bgcolor(rgb[22])\n",
    "ax[3,5].yaxis.set_visible(False)\n",
    "ax[3,5].xaxis.set_visible(False)\n",
    "ax[3,5].set_axis_bgcolor(rgb[23])"
   ]
  },
  {
   "cell_type": "code",
   "execution_count": 630,
   "metadata": {},
   "outputs": [
    {
     "data": {
      "image/png": "[encoded data removed]",
      "text/plain": [
       "<matplotlib.figure.Figure at 0xdb667f0>"
      ]
     },
     "metadata": {},
     "output_type": "display_data"
    }
   ],
   "source": [
    "plt.plot(wavelength, light, label = 'HPS')\n",
    "plt.ylabel('SPD')\n",
    "plt.xlabel('Wavelength (nm)')\n",
    "plt.legend()\n",
    "plt.grid()\n",
    "plt.show()"
   ]
  },
  {
   "cell_type": "code",
   "execution_count": null,
   "metadata": {
    "collapsed": true
   },
   "outputs": [],
   "source": []
  }
 ],
 "metadata": {
  "kernelspec": {
   "display_name": "Python 3 (ipykernel)",
   "language": "python",
   "name": "python3"
  },
  "language_info": {
   "codemirror_mode": {
    "name": "ipython",
    "version": 3
   },
   "file_extension": ".py",
   "mimetype": "text/x-python",
   "name": "python",
   "nbconvert_exporter": "python",
   "pygments_lexer": "ipython3",
   "version": "3.9.13"
  }
 },
 "nbformat": 4,
 "nbformat_minor": 1
}
