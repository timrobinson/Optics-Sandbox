{
 "cells": [
  {
   "cell_type": "code",
   "execution_count": 1,
   "metadata": {},
   "outputs": [],
   "source": [
    "import matplotlib.pyplot as plt\n",
    "import numpy as np\n",
    "import pandas as pd\n",
    "import math\n",
    "%matplotlib inline"
   ]
  },
  {
   "cell_type": "code",
   "execution_count": 2,
   "metadata": {},
   "outputs": [],
   "source": [
    "df = pd.read_csv('MacbethColorChecker.csv')\n",
    "light = pd.read_csv('LED_3000K.csv')\n",
    "XYZ = pd.read_csv('XYZ_Color_Function.csv')[3:84]"
   ]
  },
  {
   "cell_type": "code",
   "execution_count": 3,
   "metadata": {},
   "outputs": [
    {
     "name": "stderr",
     "output_type": "stream",
     "text": [
      "C:\\Users\\robin\\anaconda3\\lib\\site-packages\\numpy\\core\\fromnumeric.py:84: FutureWarning: In a future version, DataFrame.max(axis=None) will return a scalar max over the entire DataFrame. To retain the old behavior, use 'frame.max(axis=0)' or just 'frame.max()'\n",
      "  return reduction(axis=axis, out=out, **passkwargs)\n"
     ]
    }
   ],
   "source": [
    "light = light/np.amax(light)"
   ]
  },
  {
   "cell_type": "code",
   "execution_count": 4,
   "metadata": {},
   "outputs": [],
   "source": [
    "df.drop('Unnamed: 25', axis=1, inplace=True)\n",
    "df.drop('Patch Numbers', axis=1, inplace=True)\n",
    "df.drop('wavelength', axis=1, inplace=True)\n",
    "\n",
    "wavelength = range(380, 785, 5)"
   ]
  },
  {
   "cell_type": "code",
   "execution_count": 5,
   "metadata": {},
   "outputs": [],
   "source": [
    "light.drop('wavelength', axis=1, inplace=True)"
   ]
  },
  {
   "cell_type": "code",
   "execution_count": 6,
   "metadata": {},
   "outputs": [],
   "source": [
    "XYZ = XYZ.rename(columns = {XYZ.columns[0]:'wave', XYZ.columns[1]:'X', XYZ.columns[2]:'Y', XYZ.columns[3]:'Z'})\n",
    "XYZ.reset_index(drop=True, inplace = True)\n",
    "X_Bar, Y_Bar, Z_Bar = XYZ['X'], XYZ['Y'], XYZ['Z']\n",
    "XYZ.drop('wave', axis=1, inplace=True)\n",
    "X_Bar=pd.DataFrame(X_Bar)\n",
    "Y_Bar=pd.DataFrame(Y_Bar)\n",
    "Z_Bar=pd.DataFrame(Z_Bar)"
   ]
  },
  {
   "cell_type": "code",
   "execution_count": 7,
   "metadata": {},
   "outputs": [],
   "source": [
    "X_light = pd.DataFrame(light.values*X_Bar.values, columns=light.columns, index=light.index)\n",
    "Y_light = pd.DataFrame(light.values*Y_Bar.values, columns=light.columns, index=light.index)\n",
    "Z_light = pd.DataFrame(light.values*Z_Bar.values, columns=light.columns, index=light.index)"
   ]
  },
  {
   "cell_type": "code",
   "execution_count": 8,
   "metadata": {},
   "outputs": [],
   "source": [
    "X_light=X_light.sum()\n",
    "Y_light=Y_light.sum()\n",
    "Z_light=Z_light.sum()\n",
    "\n",
    "Y = Y_light.tolist()[0]"
   ]
  },
  {
   "cell_type": "code",
   "execution_count": 9,
   "metadata": {},
   "outputs": [
    {
     "data": {
      "text/plain": [
       "15.064186562433893"
      ]
     },
     "execution_count": 9,
     "metadata": {},
     "output_type": "execute_result"
    }
   ],
   "source": [
    "Y"
   ]
  },
  {
   "cell_type": "code",
   "execution_count": 10,
   "metadata": {},
   "outputs": [],
   "source": [
    "df_light = pd.DataFrame(df.values*light.values, columns=df.columns, index=df.index)"
   ]
  },
  {
   "cell_type": "code",
   "execution_count": 11,
   "metadata": {},
   "outputs": [],
   "source": [
    "x_bar = pd.DataFrame(df_light.values*X_Bar.values, columns=df_light.columns, index=df_light.index)\n",
    "\n",
    "y_bar = pd.DataFrame(df_light.values*Y_Bar.values, columns=df_light.columns, index=df_light.index)\n",
    "\n",
    "z_bar = pd.DataFrame(df_light.values*Z_Bar.values, columns=df_light.columns, index=df_light.index)\n"
   ]
  },
  {
   "cell_type": "code",
   "execution_count": 12,
   "metadata": {},
   "outputs": [
    {
     "data": {
      "text/plain": [
       "(          0\n",
       " 1  0.134409\n",
       " 2  0.463233\n",
       " 3  0.169475\n",
       " 4  0.113343\n",
       " 5  0.257509,\n",
       "           0\n",
       " 1  0.110827\n",
       " 2  0.387308\n",
       " 3  0.171928\n",
       " 4  0.127149\n",
       " 5  0.227997,\n",
       "           0\n",
       " 1  0.021610\n",
       " 2  0.095082\n",
       " 3  0.124642\n",
       " 4  0.025564\n",
       " 5  0.163035)"
      ]
     },
     "execution_count": 12,
     "metadata": {},
     "output_type": "execute_result"
    }
   ],
   "source": [
    "x_bar = pd.DataFrame(x_bar.sum())/Y\n",
    "y_bar = pd.DataFrame(y_bar.sum())/Y\n",
    "z_bar = pd.DataFrame(z_bar.sum())/Y\n",
    "\n",
    "x_bar.head(), y_bar.head(), z_bar.head()"
   ]
  },
  {
   "cell_type": "code",
   "execution_count": 13,
   "metadata": {},
   "outputs": [],
   "source": [
    "var_R = pd.DataFrame(x_bar*3.2406 + y_bar*-1.5372 + z_bar*-0.4986, columns=x_bar.columns, index=x_bar.index)\n",
    "var_G = pd.DataFrame(x_bar*-0.9686 + y_bar*1.8758 + z_bar*0.0415, columns=x_bar.columns, index=x_bar.index)\n",
    "var_B = pd.DataFrame(x_bar*0.0557 + y_bar*-0.2040 + z_bar*1.0570, columns=x_bar.columns, index=x_bar.index)"
   ]
  },
  {
   "cell_type": "code",
   "execution_count": 14,
   "metadata": {},
   "outputs": [],
   "source": [
    "r,g,b = var_R.iloc[:,0].tolist(), var_G.iloc[:,0].tolist(), var_B.iloc[:,0].tolist()"
   ]
  },
  {
   "cell_type": "code",
   "execution_count": 15,
   "metadata": {},
   "outputs": [],
   "source": [
    "r_cor, g_cor, b_cor = [], [], []\n",
    "\n",
    "for i in range(len(r)):\n",
    "    if r[i] > 1:\n",
    "        r_temp = (1 + 0.055)*((1**(1/2.4)) - 0.055)\n",
    "    elif r[i] <= 0.0:\n",
    "        r_temp = 0.0\n",
    "    elif r[i] <= 0.0031308:\n",
    "        r_temp = 12.92*r[i]\n",
    "    else:\n",
    "        r_temp = (1 + 0.055)*((r[i]**(1/2.4)) - 0.055)\n",
    "        \n",
    "    r_cor.append(r_temp)\n",
    "\n",
    "for i in range(len(g)):\n",
    "    if g[i] > 1:\n",
    "        g_temp = (1 + 0.055)*((1**(1/2.4)) - 0.055)\n",
    "    elif g[i] <= 0.0:\n",
    "        g_temp = 0.0    \n",
    "    elif g[i] <= 0.0031308:\n",
    "        g_temp = 12.92*g[i]\n",
    "    else:\n",
    "        g_temp = (1 + 0.055)*((g[i]**(1/2.4)) - 0.055)\n",
    "        \n",
    "    g_cor.append(g_temp)\n",
    "    \n",
    "for i in range(len(b)):\n",
    "    if b[i] > 1:\n",
    "        b_temp = (1 + 0.055)*((1**(1/2.4)) - 0.055)\n",
    "    elif b[i] <= 0.0:\n",
    "        b_temp = 0.0\n",
    "    elif b[i] <= 0.0031308:\n",
    "        b_temp = 12.92*b[i]\n",
    "    else:\n",
    "        b_temp = (1 + 0.055)*((b[i]**(1/2.4)) - 0.055)\n",
    "        \n",
    "    b_cor.append(b_temp)"
   ]
  },
  {
   "cell_type": "code",
   "execution_count": 16,
   "metadata": {},
   "outputs": [],
   "source": [
    "rgb = zip(r_cor,g_cor,b_cor)\n",
    "\n",
    "rgb = list(rgb)"
   ]
  },
  {
   "cell_type": "code",
   "execution_count": 17,
   "metadata": {},
   "outputs": [
    {
     "data": {
      "image/png": "[encoded data removed]",
      "text/plain": [
       "<Figure size 640x480 with 24 Axes>"
      ]
     },
     "metadata": {},
     "output_type": "display_data"
    }
   ],
   "source": [
    "fig, ax = plt.subplots(4,6)\n",
    "fig.subplots_adjust(wspace=0, hspace=0)\n",
    "\n",
    "ax[0,0].yaxis.set_visible(False)\n",
    "ax[0,0].xaxis.set_visible(False)\n",
    "ax[0,0].set_facecolor('#735244')\n",
    "ax[0,1].yaxis.set_visible(False)\n",
    "ax[0,1].xaxis.set_visible(False)\n",
    "ax[0,1].set_facecolor('#c29682')\n",
    "ax[0,2].yaxis.set_visible(False)\n",
    "ax[0,2].xaxis.set_visible(False)\n",
    "ax[0,2].set_facecolor('#627a9d')\n",
    "ax[0,3].yaxis.set_visible(False)\n",
    "ax[0,3].xaxis.set_visible(False)\n",
    "ax[0,3].set_facecolor('#576c43')\n",
    "ax[0,4].yaxis.set_visible(False)\n",
    "ax[0,4].xaxis.set_visible(False)\n",
    "ax[0,4].set_facecolor('#8580b1')\n",
    "ax[0,5].yaxis.set_visible(False)\n",
    "ax[0,5].xaxis.set_visible(False)\n",
    "ax[0,5].set_facecolor('#67bdaa')\n",
    "ax[1,0].yaxis.set_visible(False)\n",
    "ax[1,0].xaxis.set_visible(False)\n",
    "ax[1,0].set_facecolor('#d67e2c')\n",
    "ax[1,1].yaxis.set_visible(False)\n",
    "ax[1,1].xaxis.set_visible(False)\n",
    "ax[1,1].set_facecolor('#505ba6')\n",
    "ax[1,2].yaxis.set_visible(False)\n",
    "ax[1,2].xaxis.set_visible(False)\n",
    "ax[1,2].set_facecolor('#c15a63')\n",
    "ax[1,3].yaxis.set_visible(False)\n",
    "ax[1,3].xaxis.set_visible(False)\n",
    "ax[1,3].set_facecolor('#5e3c6c')\n",
    "ax[1,4].yaxis.set_visible(False)\n",
    "ax[1,4].xaxis.set_visible(False)\n",
    "ax[1,4].set_facecolor('#9dbc40')\n",
    "ax[1,5].yaxis.set_visible(False)\n",
    "ax[1,5].xaxis.set_visible(False)\n",
    "ax[1,5].set_facecolor('#e0a32e')\n",
    "ax[2,0].yaxis.set_visible(False)\n",
    "ax[2,0].xaxis.set_visible(False)\n",
    "ax[2,0].set_facecolor('#383d96')\n",
    "ax[2,1].yaxis.set_visible(False)\n",
    "ax[2,1].xaxis.set_visible(False)\n",
    "ax[2,1].set_facecolor('#469449')\n",
    "ax[2,2].yaxis.set_visible(False)\n",
    "ax[2,2].xaxis.set_visible(False)\n",
    "ax[2,2].set_facecolor('#af363c')\n",
    "ax[2,3].yaxis.set_visible(False)\n",
    "ax[2,3].xaxis.set_visible(False)\n",
    "ax[2,3].set_facecolor('#e7c71f')\n",
    "ax[2,4].yaxis.set_visible(False)\n",
    "ax[2,4].xaxis.set_visible(False)\n",
    "ax[2,4].set_facecolor('#bb5695')\n",
    "ax[2,5].yaxis.set_visible(False)\n",
    "ax[2,5].xaxis.set_visible(False)\n",
    "ax[2,5].set_facecolor('#0885a1')\n",
    "ax[3,0].yaxis.set_visible(False)\n",
    "ax[3,0].xaxis.set_visible(False)\n",
    "ax[3,0].set_facecolor('#f3f3f2')\n",
    "ax[3,1].yaxis.set_visible(False)\n",
    "ax[3,1].xaxis.set_visible(False)\n",
    "ax[3,1].set_facecolor('#c8c8c8')\n",
    "ax[3,2].yaxis.set_visible(False)\n",
    "ax[3,2].xaxis.set_visible(False)\n",
    "ax[3,2].set_facecolor('#a0a0a0')\n",
    "ax[3,3].yaxis.set_visible(False)\n",
    "ax[3,3].xaxis.set_visible(False)\n",
    "ax[3,3].set_facecolor('#7a7a79')\n",
    "ax[3,4].yaxis.set_visible(False)\n",
    "ax[3,4].xaxis.set_visible(False)\n",
    "ax[3,4].set_facecolor('#555555')\n",
    "ax[3,5].yaxis.set_visible(False)\n",
    "ax[3,5].xaxis.set_visible(False)\n",
    "ax[3,5].set_facecolor('#343434')"
   ]
  },
  {
   "cell_type": "code",
   "execution_count": 18,
   "metadata": {},
   "outputs": [
    {
     "data": {
      "image/png": "[encoded data removed]",
      "text/plain": [
       "<Figure size 640x480 with 24 Axes>"
      ]
     },
     "metadata": {},
     "output_type": "display_data"
    }
   ],
   "source": [
    "fig, ax = plt.subplots(4,6)\n",
    "fig.subplots_adjust(wspace=0, hspace=0)\n",
    "\n",
    "ax[0,0].yaxis.set_visible(False)\n",
    "ax[0,0].xaxis.set_visible(False)\n",
    "ax[0,0].set_facecolor(rgb[0])\n",
    "ax[0,1].yaxis.set_visible(False)\n",
    "ax[0,1].xaxis.set_visible(False)\n",
    "ax[0,1].set_facecolor(rgb[1])\n",
    "ax[0,2].yaxis.set_visible(False)\n",
    "ax[0,2].xaxis.set_visible(False)\n",
    "ax[0,2].set_facecolor(rgb[2])\n",
    "ax[0,3].yaxis.set_visible(False)\n",
    "ax[0,3].xaxis.set_visible(False)\n",
    "ax[0,3].set_facecolor(rgb[3])\n",
    "ax[0,4].yaxis.set_visible(False)\n",
    "ax[0,4].xaxis.set_visible(False)\n",
    "ax[0,4].set_facecolor(rgb[4])\n",
    "ax[0,5].yaxis.set_visible(False)\n",
    "ax[0,5].xaxis.set_visible(False)\n",
    "ax[0,5].set_facecolor(rgb[5])\n",
    "ax[1,0].yaxis.set_visible(False)\n",
    "ax[1,0].xaxis.set_visible(False)\n",
    "ax[1,0].set_facecolor(rgb[6])\n",
    "ax[1,1].yaxis.set_visible(False)\n",
    "ax[1,1].xaxis.set_visible(False)\n",
    "ax[1,1].set_facecolor(rgb[7])\n",
    "ax[1,2].yaxis.set_visible(False)\n",
    "ax[1,2].xaxis.set_visible(False)\n",
    "ax[1,2].set_facecolor(rgb[8])\n",
    "ax[1,3].yaxis.set_visible(False)\n",
    "ax[1,3].xaxis.set_visible(False)\n",
    "ax[1,3].set_facecolor(rgb[9])\n",
    "ax[1,4].yaxis.set_visible(False)\n",
    "ax[1,4].xaxis.set_visible(False)\n",
    "ax[1,4].set_facecolor(rgb[10])\n",
    "ax[1,5].yaxis.set_visible(False)\n",
    "ax[1,5].xaxis.set_visible(False)\n",
    "ax[1,5].set_facecolor(rgb[11])\n",
    "ax[2,0].yaxis.set_visible(False)\n",
    "ax[2,0].xaxis.set_visible(False)\n",
    "ax[2,0].set_facecolor(rgb[12])\n",
    "ax[2,1].yaxis.set_visible(False)\n",
    "ax[2,1].xaxis.set_visible(False)\n",
    "ax[2,1].set_facecolor(rgb[13])\n",
    "ax[2,2].yaxis.set_visible(False)\n",
    "ax[2,2].xaxis.set_visible(False)\n",
    "ax[2,2].set_facecolor(rgb[14])\n",
    "ax[2,3].yaxis.set_visible(False)\n",
    "ax[2,3].xaxis.set_visible(False)\n",
    "ax[2,3].set_facecolor(rgb[15])\n",
    "ax[2,4].yaxis.set_visible(False)\n",
    "ax[2,4].xaxis.set_visible(False)\n",
    "ax[2,4].set_facecolor(rgb[16])\n",
    "ax[2,5].yaxis.set_visible(False)\n",
    "ax[2,5].xaxis.set_visible(False)\n",
    "ax[2,5].set_facecolor(rgb[17])\n",
    "ax[3,0].yaxis.set_visible(False)\n",
    "ax[3,0].xaxis.set_visible(False)\n",
    "ax[3,0].set_facecolor(rgb[18])\n",
    "ax[3,1].yaxis.set_visible(False)\n",
    "ax[3,1].xaxis.set_visible(False)\n",
    "ax[3,1].set_facecolor(rgb[19])\n",
    "ax[3,2].yaxis.set_visible(False)\n",
    "ax[3,2].xaxis.set_visible(False)\n",
    "ax[3,2].set_facecolor(rgb[20])\n",
    "ax[3,3].yaxis.set_visible(False)\n",
    "ax[3,3].xaxis.set_visible(False)\n",
    "ax[3,3].set_facecolor(rgb[21])\n",
    "ax[3,4].yaxis.set_visible(False)\n",
    "ax[3,4].xaxis.set_visible(False)\n",
    "ax[3,4].set_facecolor(rgb[22])\n",
    "ax[3,5].yaxis.set_visible(False)\n",
    "ax[3,5].xaxis.set_visible(False)\n",
    "ax[3,5].set_facecolor(rgb[23])"
   ]
  },
  {
   "cell_type": "code",
   "execution_count": null,
   "metadata": {},
   "outputs": [],
   "source": []
  }
 ],
 "metadata": {
  "kernelspec": {
   "display_name": "Python 3 (ipykernel)",
   "language": "python",
   "name": "python3"
  },
  "language_info": {
   "codemirror_mode": {
    "name": "ipython",
    "version": 3
   },
   "file_extension": ".py",
   "mimetype": "text/x-python",
   "name": "python",
   "nbconvert_exporter": "python",
   "pygments_lexer": "ipython3",
   "version": "3.9.13"
  }
 },
 "nbformat": 4,
 "nbformat_minor": 1
}
