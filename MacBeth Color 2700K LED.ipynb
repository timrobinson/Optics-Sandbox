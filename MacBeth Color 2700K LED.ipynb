{
 "cells": [
  {
   "cell_type": "code",
   "execution_count": 1,
   "metadata": {},
   "outputs": [],
   "source": [
    "import matplotlib.pyplot as plt\n",
    "import numpy as np\n",
    "import pandas as pd\n",
    "import math\n",
    "from scipy.interpolate import interp1d\n",
    "%matplotlib inline"
   ]
  },
  {
   "cell_type": "code",
   "execution_count": 2,
   "metadata": {},
   "outputs": [],
   "source": [
    "df = pd.read_csv('MacbethColorChecker.csv')\n",
    "light = pd.read_csv('LED_2700K.csv')\n",
    "XYZ = pd.read_csv('XYZ_Color_Function.csv')[3:84]"
   ]
  },
  {
   "cell_type": "code",
   "execution_count": 3,
   "metadata": {},
   "outputs": [
    {
     "data": {
      "text/html": [
       "<div>\n",
       "<style scoped>\n",
       "    .dataframe tbody tr th:only-of-type {\n",
       "        vertical-align: middle;\n",
       "    }\n",
       "\n",
       "    .dataframe tbody tr th {\n",
       "        vertical-align: top;\n",
       "    }\n",
       "\n",
       "    .dataframe thead th {\n",
       "        text-align: right;\n",
       "    }\n",
       "</style>\n",
       "<table border=\"1\" class=\"dataframe\">\n",
       "  <thead>\n",
       "    <tr style=\"text-align: right;\">\n",
       "      <th></th>\n",
       "      <th>wavelength</th>\n",
       "      <th>irradiance</th>\n",
       "    </tr>\n",
       "  </thead>\n",
       "  <tbody>\n",
       "    <tr>\n",
       "      <th>396</th>\n",
       "      <td>776</td>\n",
       "      <td>0.0148</td>\n",
       "    </tr>\n",
       "    <tr>\n",
       "      <th>397</th>\n",
       "      <td>777</td>\n",
       "      <td>0.0140</td>\n",
       "    </tr>\n",
       "    <tr>\n",
       "      <th>398</th>\n",
       "      <td>778</td>\n",
       "      <td>0.0135</td>\n",
       "    </tr>\n",
       "    <tr>\n",
       "      <th>399</th>\n",
       "      <td>779</td>\n",
       "      <td>0.0140</td>\n",
       "    </tr>\n",
       "    <tr>\n",
       "      <th>400</th>\n",
       "      <td>780</td>\n",
       "      <td>0.0119</td>\n",
       "    </tr>\n",
       "  </tbody>\n",
       "</table>\n",
       "</div>"
      ],
      "text/plain": [
       "     wavelength  irradiance\n",
       "396         776      0.0148\n",
       "397         777      0.0140\n",
       "398         778      0.0135\n",
       "399         779      0.0140\n",
       "400         780      0.0119"
      ]
     },
     "execution_count": 3,
     "metadata": {},
     "output_type": "execute_result"
    }
   ],
   "source": [
    "light.tail()"
   ]
  },
  {
   "cell_type": "code",
   "execution_count": 4,
   "metadata": {},
   "outputs": [
    {
     "data": {
      "text/plain": [
       "[<matplotlib.lines.Line2D at 0x16df3f30940>]"
      ]
     },
     "execution_count": 4,
     "metadata": {},
     "output_type": "execute_result"
    },
    {
     "data": {
      "image/png": "[encoded data removed]",
      "text/plain": [
       "<Figure size 640x480 with 1 Axes>"
      ]
     },
     "metadata": {},
     "output_type": "display_data"
    }
   ],
   "source": [
    "plt.plot(light['wavelength'], light['irradiance'])"
   ]
  },
  {
   "cell_type": "code",
   "execution_count": 5,
   "metadata": {},
   "outputs": [],
   "source": [
    "# light = light/np.amax(light)"
   ]
  },
  {
   "cell_type": "code",
   "execution_count": 6,
   "metadata": {},
   "outputs": [
    {
     "data": {
      "text/plain": [
       "401"
      ]
     },
     "execution_count": 6,
     "metadata": {},
     "output_type": "execute_result"
    }
   ],
   "source": [
    "df.drop('Unnamed: 25', axis=1, inplace=True)\n",
    "df.drop('Patch Numbers', axis=1, inplace=True)\n",
    "df.drop('wavelength', axis=1, inplace=True)\n",
    "\n",
    "wave = range(380, 785, 5)\n",
    "\n",
    "len(light['irradiance'])"
   ]
  },
  {
   "cell_type": "code",
   "execution_count": 7,
   "metadata": {},
   "outputs": [
    {
     "data": {
      "text/html": [
       "<div>\n",
       "<style scoped>\n",
       "    .dataframe tbody tr th:only-of-type {\n",
       "        vertical-align: middle;\n",
       "    }\n",
       "\n",
       "    .dataframe tbody tr th {\n",
       "        vertical-align: top;\n",
       "    }\n",
       "\n",
       "    .dataframe thead th {\n",
       "        text-align: right;\n",
       "    }\n",
       "</style>\n",
       "<table border=\"1\" class=\"dataframe\">\n",
       "  <thead>\n",
       "    <tr style=\"text-align: right;\">\n",
       "      <th></th>\n",
       "      <th>0</th>\n",
       "    </tr>\n",
       "  </thead>\n",
       "  <tbody>\n",
       "    <tr>\n",
       "      <th>0</th>\n",
       "      <td>0.0008</td>\n",
       "    </tr>\n",
       "    <tr>\n",
       "      <th>1</th>\n",
       "      <td>0.0006</td>\n",
       "    </tr>\n",
       "    <tr>\n",
       "      <th>2</th>\n",
       "      <td>0.0009</td>\n",
       "    </tr>\n",
       "    <tr>\n",
       "      <th>3</th>\n",
       "      <td>0.0010</td>\n",
       "    </tr>\n",
       "    <tr>\n",
       "      <th>4</th>\n",
       "      <td>0.0021</td>\n",
       "    </tr>\n",
       "    <tr>\n",
       "      <th>...</th>\n",
       "      <td>...</td>\n",
       "    </tr>\n",
       "    <tr>\n",
       "      <th>76</th>\n",
       "      <td>0.0226</td>\n",
       "    </tr>\n",
       "    <tr>\n",
       "      <th>77</th>\n",
       "      <td>0.0186</td>\n",
       "    </tr>\n",
       "    <tr>\n",
       "      <th>78</th>\n",
       "      <td>0.0166</td>\n",
       "    </tr>\n",
       "    <tr>\n",
       "      <th>79</th>\n",
       "      <td>0.0147</td>\n",
       "    </tr>\n",
       "    <tr>\n",
       "      <th>80</th>\n",
       "      <td>0.0119</td>\n",
       "    </tr>\n",
       "  </tbody>\n",
       "</table>\n",
       "<p>81 rows × 1 columns</p>\n",
       "</div>"
      ],
      "text/plain": [
       "         0\n",
       "0   0.0008\n",
       "1   0.0006\n",
       "2   0.0009\n",
       "3   0.0010\n",
       "4   0.0021\n",
       "..     ...\n",
       "76  0.0226\n",
       "77  0.0186\n",
       "78  0.0166\n",
       "79  0.0147\n",
       "80  0.0119\n",
       "\n",
       "[81 rows x 1 columns]"
      ]
     },
     "execution_count": 7,
     "metadata": {},
     "output_type": "execute_result"
    }
   ],
   "source": [
    "F = interp1d(light['wavelength'], light['irradiance'], kind='linear')\n",
    "light = F(wave)\n",
    "light = pd.DataFrame(light)\n",
    "light"
   ]
  },
  {
   "cell_type": "code",
   "execution_count": 8,
   "metadata": {},
   "outputs": [],
   "source": [
    "# light.drop('wavelength', axis=1, inplace=True)"
   ]
  },
  {
   "cell_type": "code",
   "execution_count": 9,
   "metadata": {},
   "outputs": [],
   "source": [
    "XYZ = XYZ.rename(columns = {XYZ.columns[0]:'wave', XYZ.columns[1]:'X', XYZ.columns[2]:'Y', XYZ.columns[3]:'Z'})\n",
    "XYZ.reset_index(drop=True, inplace = True)\n",
    "X_Bar, Y_Bar, Z_Bar = XYZ['X'], XYZ['Y'], XYZ['Z']\n",
    "XYZ.drop('wave', axis=1, inplace=True)\n",
    "X_Bar=pd.DataFrame(X_Bar)\n",
    "Y_Bar=pd.DataFrame(Y_Bar)\n",
    "Z_Bar=pd.DataFrame(Z_Bar)"
   ]
  },
  {
   "cell_type": "code",
   "execution_count": 10,
   "metadata": {},
   "outputs": [],
   "source": [
    "X_light = pd.DataFrame(light.values*X_Bar.values, columns=light.columns, index=light.index)\n",
    "Y_light = pd.DataFrame(light.values*Y_Bar.values, columns=light.columns, index=light.index)\n",
    "Z_light = pd.DataFrame(light.values*Z_Bar.values, columns=light.columns, index=light.index)"
   ]
  },
  {
   "cell_type": "code",
   "execution_count": 11,
   "metadata": {},
   "outputs": [],
   "source": [
    "X_light=X_light.sum()\n",
    "Y_light=Y_light.sum()\n",
    "Z_light=Z_light.sum()\n",
    "\n",
    "Y = Y_light.tolist()[0]"
   ]
  },
  {
   "cell_type": "code",
   "execution_count": 12,
   "metadata": {},
   "outputs": [
    {
     "data": {
      "text/plain": [
       "13.913255394485999"
      ]
     },
     "execution_count": 12,
     "metadata": {},
     "output_type": "execute_result"
    }
   ],
   "source": [
    "Y"
   ]
  },
  {
   "cell_type": "code",
   "execution_count": 13,
   "metadata": {},
   "outputs": [],
   "source": [
    "df_light = pd.DataFrame(df.values*light.values, columns=df.columns, index=df.index)"
   ]
  },
  {
   "cell_type": "code",
   "execution_count": 14,
   "metadata": {},
   "outputs": [],
   "source": [
    "x_bar = pd.DataFrame(df_light.values*X_Bar.values, columns=df_light.columns, index=df_light.index)\n",
    "\n",
    "y_bar = pd.DataFrame(df_light.values*Y_Bar.values, columns=df_light.columns, index=df_light.index)\n",
    "\n",
    "z_bar = pd.DataFrame(df_light.values*Z_Bar.values, columns=df_light.columns, index=df_light.index)\n"
   ]
  },
  {
   "cell_type": "code",
   "execution_count": 15,
   "metadata": {},
   "outputs": [
    {
     "data": {
      "text/plain": [
       "(          0\n",
       " 1  0.141162\n",
       " 2  0.486206\n",
       " 3  0.169298\n",
       " 4  0.116522\n",
       " 5  0.261193,\n",
       "           0\n",
       " 1  0.113005\n",
       " 2  0.394392\n",
       " 3  0.170112\n",
       " 4  0.125458\n",
       " 5  0.228646,\n",
       "           0\n",
       " 1  0.016293\n",
       " 2  0.073332\n",
       " 3  0.092257\n",
       " 4  0.019880\n",
       " 5  0.120457)"
      ]
     },
     "execution_count": 15,
     "metadata": {},
     "output_type": "execute_result"
    }
   ],
   "source": [
    "x_bar = pd.DataFrame(x_bar.sum())/Y\n",
    "y_bar = pd.DataFrame(y_bar.sum())/Y\n",
    "z_bar = pd.DataFrame(z_bar.sum())/Y\n",
    "\n",
    "x_bar.head(), y_bar.head(), z_bar.head()"
   ]
  },
  {
   "cell_type": "code",
   "execution_count": 16,
   "metadata": {},
   "outputs": [],
   "source": [
    "var_R = pd.DataFrame(x_bar*3.2406 + y_bar*-1.5372 + z_bar*-0.4986, columns=x_bar.columns, index=x_bar.index)\n",
    "var_G = pd.DataFrame(x_bar*-0.9686 + y_bar*1.8758 + z_bar*0.0415, columns=x_bar.columns, index=x_bar.index)\n",
    "var_B = pd.DataFrame(x_bar*0.0557 + y_bar*-0.2040 + z_bar*1.0570, columns=x_bar.columns, index=x_bar.index)"
   ]
  },
  {
   "cell_type": "code",
   "execution_count": 19,
   "metadata": {},
   "outputs": [],
   "source": [
    "r,g,b = var_R.iloc[:,0].tolist(), var_G.iloc[:,0].tolist(), var_B.iloc[:,0].tolist()"
   ]
  },
  {
   "cell_type": "code",
   "execution_count": 20,
   "metadata": {},
   "outputs": [],
   "source": [
    "r_cor, g_cor, b_cor = [], [], []\n",
    "\n",
    "for i in range(len(r)):\n",
    "    if r[i] > 1:\n",
    "        r_temp = (1 + 0.055)*((1**(1/2.4)) - 0.055)\n",
    "    elif r[i] <= 0.0:\n",
    "        r_temp = 0.0\n",
    "    elif r[i] <= 0.0031308:\n",
    "        r_temp = 12.92*r[i]\n",
    "    else:\n",
    "        r_temp = (1 + 0.055)*((r[i]**(1/2.4)) - 0.055)\n",
    "        \n",
    "    r_cor.append(r_temp)\n",
    "\n",
    "for i in range(len(g)):\n",
    "    if g[i] > 1:\n",
    "        g_temp = (1 + 0.055)*((1**(1/2.4)) - 0.055)\n",
    "    elif g[i] <= 0.0:\n",
    "        g_temp = 0.0    \n",
    "    elif g[i] <= 0.0031308:\n",
    "        g_temp = 12.92*g[i]\n",
    "    else:\n",
    "        g_temp = (1 + 0.055)*((g[i]**(1/2.4)) - 0.055)\n",
    "        \n",
    "    g_cor.append(g_temp)\n",
    "    \n",
    "for i in range(len(b)):\n",
    "    if b[i] > 1:\n",
    "        b_temp = (1 + 0.055)*((1**(1/2.4)) - 0.055)\n",
    "    elif b[i] <= 0.0:\n",
    "        b_temp = 0.0\n",
    "    elif b[i] <= 0.0031308:\n",
    "        b_temp = 12.92*b[i]\n",
    "    else:\n",
    "        b_temp = (1 + 0.055)*((b[i]**(1/2.4)) - 0.055)\n",
    "        \n",
    "    b_cor.append(b_temp)"
   ]
  },
  {
   "cell_type": "code",
   "execution_count": 21,
   "metadata": {},
   "outputs": [],
   "source": [
    "rgb = zip(r_cor,g_cor,b_cor)\n",
    "\n",
    "rgb = list(rgb)"
   ]
  },
  {
   "cell_type": "code",
   "execution_count": 22,
   "metadata": {},
   "outputs": [
    {
     "data": {
      "image/png": "[encoded data removed]",
      "text/plain": [
       "<Figure size 640x480 with 24 Axes>"
      ]
     },
     "metadata": {},
     "output_type": "display_data"
    }
   ],
   "source": [
    "fig, ax = plt.subplots(4,6)\n",
    "fig.subplots_adjust(wspace=0, hspace=0)\n",
    "\n",
    "ax[0,0].yaxis.set_visible(False)\n",
    "ax[0,0].xaxis.set_visible(False)\n",
    "ax[0,0].set_facecolor('#735244')\n",
    "ax[0,1].yaxis.set_visible(False)\n",
    "ax[0,1].xaxis.set_visible(False)\n",
    "ax[0,1].set_facecolor('#c29682')\n",
    "ax[0,2].yaxis.set_visible(False)\n",
    "ax[0,2].xaxis.set_visible(False)\n",
    "ax[0,2].set_facecolor('#627a9d')\n",
    "ax[0,3].yaxis.set_visible(False)\n",
    "ax[0,3].xaxis.set_visible(False)\n",
    "ax[0,3].set_facecolor('#576c43')\n",
    "ax[0,4].yaxis.set_visible(False)\n",
    "ax[0,4].xaxis.set_visible(False)\n",
    "ax[0,4].set_facecolor('#8580b1')\n",
    "ax[0,5].yaxis.set_visible(False)\n",
    "ax[0,5].xaxis.set_visible(False)\n",
    "ax[0,5].set_facecolor('#67bdaa')\n",
    "ax[1,0].yaxis.set_visible(False)\n",
    "ax[1,0].xaxis.set_visible(False)\n",
    "ax[1,0].set_facecolor('#d67e2c')\n",
    "ax[1,1].yaxis.set_visible(False)\n",
    "ax[1,1].xaxis.set_visible(False)\n",
    "ax[1,1].set_facecolor('#505ba6')\n",
    "ax[1,2].yaxis.set_visible(False)\n",
    "ax[1,2].xaxis.set_visible(False)\n",
    "ax[1,2].set_facecolor('#c15a63')\n",
    "ax[1,3].yaxis.set_visible(False)\n",
    "ax[1,3].xaxis.set_visible(False)\n",
    "ax[1,3].set_facecolor('#5e3c6c')\n",
    "ax[1,4].yaxis.set_visible(False)\n",
    "ax[1,4].xaxis.set_visible(False)\n",
    "ax[1,4].set_facecolor('#9dbc40')\n",
    "ax[1,5].yaxis.set_visible(False)\n",
    "ax[1,5].xaxis.set_visible(False)\n",
    "ax[1,5].set_facecolor('#e0a32e')\n",
    "ax[2,0].yaxis.set_visible(False)\n",
    "ax[2,0].xaxis.set_visible(False)\n",
    "ax[2,0].set_facecolor('#383d96')\n",
    "ax[2,1].yaxis.set_visible(False)\n",
    "ax[2,1].xaxis.set_visible(False)\n",
    "ax[2,1].set_facecolor('#469449')\n",
    "ax[2,2].yaxis.set_visible(False)\n",
    "ax[2,2].xaxis.set_visible(False)\n",
    "ax[2,2].set_facecolor('#af363c')\n",
    "ax[2,3].yaxis.set_visible(False)\n",
    "ax[2,3].xaxis.set_visible(False)\n",
    "ax[2,3].set_facecolor('#e7c71f')\n",
    "ax[2,4].yaxis.set_visible(False)\n",
    "ax[2,4].xaxis.set_visible(False)\n",
    "ax[2,4].set_facecolor('#bb5695')\n",
    "ax[2,5].yaxis.set_visible(False)\n",
    "ax[2,5].xaxis.set_visible(False)\n",
    "ax[2,5].set_facecolor('#0885a1')\n",
    "ax[3,0].yaxis.set_visible(False)\n",
    "ax[3,0].xaxis.set_visible(False)\n",
    "ax[3,0].set_facecolor('#f3f3f2')\n",
    "ax[3,1].yaxis.set_visible(False)\n",
    "ax[3,1].xaxis.set_visible(False)\n",
    "ax[3,1].set_facecolor('#c8c8c8')\n",
    "ax[3,2].yaxis.set_visible(False)\n",
    "ax[3,2].xaxis.set_visible(False)\n",
    "ax[3,2].set_facecolor('#a0a0a0')\n",
    "ax[3,3].yaxis.set_visible(False)\n",
    "ax[3,3].xaxis.set_visible(False)\n",
    "ax[3,3].set_facecolor('#7a7a79')\n",
    "ax[3,4].yaxis.set_visible(False)\n",
    "ax[3,4].xaxis.set_visible(False)\n",
    "ax[3,4].set_facecolor('#555555')\n",
    "ax[3,5].yaxis.set_visible(False)\n",
    "ax[3,5].xaxis.set_visible(False)\n",
    "ax[3,5].set_facecolor('#343434')"
   ]
  },
  {
   "cell_type": "code",
   "execution_count": 24,
   "metadata": {},
   "outputs": [
    {
     "data": {
      "image/png": "[encoded data removed]",
      "text/plain": [
       "<Figure size 640x480 with 24 Axes>"
      ]
     },
     "metadata": {},
     "output_type": "display_data"
    }
   ],
   "source": [
    "fig, ax = plt.subplots(4,6)\n",
    "fig.subplots_adjust(wspace=0, hspace=0)\n",
    "\n",
    "ax[0,0].yaxis.set_visible(False)\n",
    "ax[0,0].xaxis.set_visible(False)\n",
    "ax[0,0].set_facecolor(rgb[0])\n",
    "ax[0,1].yaxis.set_visible(False)\n",
    "ax[0,1].xaxis.set_visible(False)\n",
    "ax[0,1].set_facecolor(rgb[1])\n",
    "ax[0,2].yaxis.set_visible(False)\n",
    "ax[0,2].xaxis.set_visible(False)\n",
    "ax[0,2].set_facecolor(rgb[2])\n",
    "ax[0,3].yaxis.set_visible(False)\n",
    "ax[0,3].xaxis.set_visible(False)\n",
    "ax[0,3].set_facecolor(rgb[3])\n",
    "ax[0,4].yaxis.set_visible(False)\n",
    "ax[0,4].xaxis.set_visible(False)\n",
    "ax[0,4].set_facecolor(rgb[4])\n",
    "ax[0,5].yaxis.set_visible(False)\n",
    "ax[0,5].xaxis.set_visible(False)\n",
    "ax[0,5].set_facecolor(rgb[5])\n",
    "ax[1,0].yaxis.set_visible(False)\n",
    "ax[1,0].xaxis.set_visible(False)\n",
    "ax[1,0].set_facecolor(rgb[6])\n",
    "ax[1,1].yaxis.set_visible(False)\n",
    "ax[1,1].xaxis.set_visible(False)\n",
    "ax[1,1].set_facecolor(rgb[7])\n",
    "ax[1,2].yaxis.set_visible(False)\n",
    "ax[1,2].xaxis.set_visible(False)\n",
    "ax[1,2].set_facecolor(rgb[8])\n",
    "ax[1,3].yaxis.set_visible(False)\n",
    "ax[1,3].xaxis.set_visible(False)\n",
    "ax[1,3].set_facecolor(rgb[9])\n",
    "ax[1,4].yaxis.set_visible(False)\n",
    "ax[1,4].xaxis.set_visible(False)\n",
    "ax[1,4].set_facecolor(rgb[10])\n",
    "ax[1,5].yaxis.set_visible(False)\n",
    "ax[1,5].xaxis.set_visible(False)\n",
    "ax[1,5].set_facecolor(rgb[11])\n",
    "ax[2,0].yaxis.set_visible(False)\n",
    "ax[2,0].xaxis.set_visible(False)\n",
    "ax[2,0].set_facecolor(rgb[12])\n",
    "ax[2,1].yaxis.set_visible(False)\n",
    "ax[2,1].xaxis.set_visible(False)\n",
    "ax[2,1].set_facecolor(rgb[13])\n",
    "ax[2,2].yaxis.set_visible(False)\n",
    "ax[2,2].xaxis.set_visible(False)\n",
    "ax[2,2].set_facecolor(rgb[14])\n",
    "ax[2,3].yaxis.set_visible(False)\n",
    "ax[2,3].xaxis.set_visible(False)\n",
    "ax[2,3].set_facecolor(rgb[15])\n",
    "ax[2,4].yaxis.set_visible(False)\n",
    "ax[2,4].xaxis.set_visible(False)\n",
    "ax[2,4].set_facecolor(rgb[16])\n",
    "ax[2,5].yaxis.set_visible(False)\n",
    "ax[2,5].xaxis.set_visible(False)\n",
    "ax[2,5].set_facecolor(rgb[17])\n",
    "ax[3,0].yaxis.set_visible(False)\n",
    "ax[3,0].xaxis.set_visible(False)\n",
    "ax[3,0].set_facecolor(rgb[18])\n",
    "ax[3,1].yaxis.set_visible(False)\n",
    "ax[3,1].xaxis.set_visible(False)\n",
    "ax[3,1].set_facecolor(rgb[19])\n",
    "ax[3,2].yaxis.set_visible(False)\n",
    "ax[3,2].xaxis.set_visible(False)\n",
    "ax[3,2].set_facecolor(rgb[20])\n",
    "ax[3,3].yaxis.set_visible(False)\n",
    "ax[3,3].xaxis.set_visible(False)\n",
    "ax[3,3].set_facecolor(rgb[21])\n",
    "ax[3,4].yaxis.set_visible(False)\n",
    "ax[3,4].xaxis.set_visible(False)\n",
    "ax[3,4].set_facecolor(rgb[22])\n",
    "ax[3,5].yaxis.set_visible(False)\n",
    "ax[3,5].xaxis.set_visible(False)\n",
    "ax[3,5].set_facecolor(rgb[23])"
   ]
  },
  {
   "cell_type": "code",
   "execution_count": null,
   "metadata": {
    "collapsed": true
   },
   "outputs": [],
   "source": []
  }
 ],
 "metadata": {
  "kernelspec": {
   "display_name": "Python 3 (ipykernel)",
   "language": "python",
   "name": "python3"
  },
  "language_info": {
   "codemirror_mode": {
    "name": "ipython",
    "version": 3
   },
   "file_extension": ".py",
   "mimetype": "text/x-python",
   "name": "python",
   "nbconvert_exporter": "python",
   "pygments_lexer": "ipython3",
   "version": "3.9.13"
  }
 },
 "nbformat": 4,
 "nbformat_minor": 1
}
